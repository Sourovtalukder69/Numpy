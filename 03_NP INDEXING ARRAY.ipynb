{
 "cells": [
  {
   "cell_type": "markdown",
   "metadata": {},
   "source": [
    "# Numpy Indexing Array"
   ]
  },
  {
   "cell_type": "code",
   "execution_count": 1,
   "metadata": {},
   "outputs": [
    {
     "name": "stdout",
     "output_type": "stream",
     "text": [
      "2\n"
     ]
    }
   ],
   "source": [
    "#1-D Array indexing is the same as accessing an array element. strat with 0, second 1\n",
    "import numpy as np\n",
    "sourov = np.array([1, 2, 3, 4])\n",
    "print(sourov[1])\n"
   ]
  },
  {
   "cell_type": "code",
   "execution_count": 2,
   "metadata": {},
   "outputs": [
    {
     "name": "stdout",
     "output_type": "stream",
     "text": [
      "7\n"
     ]
    }
   ],
   "source": [
    "# we can get the third and forth elements from adding them\n",
    "import numpy as np\n",
    "sourov = np.array([1, 2, 3, 4])\n",
    "print(sourov[2] + sourov[3])"
   ]
  },
  {
   "cell_type": "code",
   "execution_count": 3,
   "metadata": {},
   "outputs": [
    {
     "name": "stdout",
     "output_type": "stream",
     "text": [
      "5th element in the 2nd rows 10\n"
     ]
    }
   ],
   "source": [
    "# Accessing the 2 -D - it is like a rows and columns.\n",
    "import numpy as np\n",
    "sourov = np.array([[1, 2, 3, 4, 5], [6, 7, 8, 9, 10]])\n",
    "#print('2nd element in the 1st rows', sourov[0, 1])\n",
    "print('5th element in the 2nd rows', sourov[1, 4])\n"
   ]
  },
  {
   "cell_type": "code",
   "execution_count": 4,
   "metadata": {},
   "outputs": [
    {
     "name": "stdout",
     "output_type": "stream",
     "text": [
      "2nd elemnt in 3rd row is : 8\n",
      "3rd elemnt of 1st row is : 3\n"
     ]
    }
   ],
   "source": [
    "# accessing the 3-D - same as accessing\n",
    "\n",
    "import numpy as np\n",
    "sourov = np.array([[[1, 2, 3], [4, 5, 6]], [[7, 8, 9],[10, 11, 12 ]]])\n",
    "print(\"2nd elemnt in 3rd row is :\", sourov[1, 0, 1])\n",
    "print(\"3rd elemnt of 1st row is :\", sourov[0, 0, 2])\n"
   ]
  },
  {
   "cell_type": "code",
   "execution_count": 5,
   "metadata": {},
   "outputs": [
    {
     "name": "stdout",
     "output_type": "stream",
     "text": [
      "[[ 0  1  2]\n",
      " [ 3  4  5]\n",
      " [ 6  7  8]\n",
      " [ 9 10 11]]\n"
     ]
    }
   ],
   "source": [
    "#Numpy Advance indexing \n",
    "import numpy as np\n",
    "x = np.arange(12).reshape(4, 3)\n",
    "print(x)\n"
   ]
  },
  {
   "cell_type": "code",
   "execution_count": 6,
   "metadata": {},
   "outputs": [
    {
     "name": "stdout",
     "output_type": "stream",
     "text": [
      "[[ 0  1  2]\n",
      " [ 6  7  8]\n",
      " [ 9 10 11]]\n"
     ]
    }
   ],
   "source": [
    "### Fancy Indexing\n",
    "# find 1st, 3rd, 4rth\n",
    "print(x[[0, 2, 3]])\n"
   ]
  },
  {
   "cell_type": "code",
   "execution_count": 7,
   "metadata": {},
   "outputs": [
    {
     "name": "stdout",
     "output_type": "stream",
     "text": [
      "[[ 0  1  2  3]\n",
      " [ 4  5  6  7]\n",
      " [ 8  9 10 11]\n",
      " [12 13 14 15]\n",
      " [16 17 18 19]\n",
      " [20 21 22 23]]\n",
      "[[ 0  1  2  3]\n",
      " [ 8  9 10 11]\n",
      " [20 21 22 23]]\n",
      "[[ 0  2  3]\n",
      " [ 4  6  7]\n",
      " [ 8 10 11]\n",
      " [12 14 15]\n",
      " [16 18 19]\n",
      " [20 22 23]]\n"
     ]
    }
   ],
   "source": [
    "\n",
    "import numpy as np\n",
    "y = np.arange(24).reshape(6, 4)\n",
    "print(y)\n",
    "\n",
    "# execute 1st 3rd 6rth \n",
    "print(y[[0,2,5]])\n",
    "\n",
    "# execute 1st 2nd 3rd column\n",
    "print(y[:,[0, 2, 3]])\n",
    "\n"
   ]
  },
  {
   "cell_type": "code",
   "execution_count": 8,
   "metadata": {},
   "outputs": [
    {
     "name": "stdout",
     "output_type": "stream",
     "text": [
      "[[36 15 64 86]\n",
      " [48 23 96 13]\n",
      " [15 18 52 28]\n",
      " [27 14 89 64]\n",
      " [44 64 40 77]\n",
      " [71 57 39 19]]\n"
     ]
    }
   ],
   "source": [
    "### Boolean indexing\n",
    "import numpy as np\n",
    "x = np.random.randint(1,100, 24).reshape(6, 4)\n",
    "# means random integer range 1 - 100, item 24,  reshape 6 row 4 column\n",
    "print(x)\n"
   ]
  },
  {
   "cell_type": "code",
   "execution_count": 9,
   "metadata": {},
   "outputs": [
    {
     "name": "stdout",
     "output_type": "stream",
     "text": [
      "[[False False  True  True]\n",
      " [False False  True False]\n",
      " [False False  True False]\n",
      " [False False  True  True]\n",
      " [False  True False  True]\n",
      " [ True  True False False]]\n"
     ]
    }
   ],
   "source": [
    "\n",
    "###find all numbers greater than 50\n",
    "print(x>50)\n"
   ]
  },
  {
   "cell_type": "code",
   "execution_count": 10,
   "metadata": {},
   "outputs": [
    {
     "name": "stdout",
     "output_type": "stream",
     "text": [
      "[64 86 96 52 89 64 64 77 71 57]\n"
     ]
    }
   ],
   "source": [
    "print(x[x>50])\n",
    "# array([79 72 73 54 94 60 66 83 61 84 97 78 \n",
    "# 90])\n"
   ]
  },
  {
   "cell_type": "code",
   "execution_count": 11,
   "metadata": {},
   "outputs": [
    {
     "name": "stdout",
     "output_type": "stream",
     "text": [
      "[36 64 86 48 96 18 52 28 14 64 44 64 40]\n"
     ]
    }
   ],
   "source": [
    "### find all even number\n",
    "print(x[x % 2 == 0])"
   ]
  },
  {
   "cell_type": "code",
   "execution_count": 12,
   "metadata": {},
   "outputs": [
    {
     "name": "stdout",
     "output_type": "stream",
     "text": [
      "[64 86 96 52 64 64]\n"
     ]
    }
   ],
   "source": [
    "### find all even and greater thatn 50\n",
    "print(x[(x > 50) & (x % 2 == 0)])   # & this and use cz we use boolean"
   ]
  },
  {
   "cell_type": "code",
   "execution_count": 13,
   "metadata": {},
   "outputs": [
    {
     "name": "stdout",
     "output_type": "stream",
     "text": [
      "[28 14 77]\n"
     ]
    }
   ],
   "source": [
    "### find all number not divisible by 7\n",
    "print(x[x % 7 == 0])"
   ]
  },
  {
   "cell_type": "code",
   "execution_count": 14,
   "metadata": {},
   "outputs": [
    {
     "name": "stdout",
     "output_type": "stream",
     "text": [
      "[36 15 64 86 48 23 96 13 15 18 52 27 89 64 44 64 40 71 57 39 19]\n"
     ]
    }
   ],
   "source": [
    "### find all number  divisible by 7\n",
    "print(x[~(x % 7 == 0)])            # ~ boolean not , | boolean or"
   ]
  }
 ],
 "metadata": {
  "kernelspec": {
   "display_name": "Python 3",
   "language": "python",
   "name": "python3"
  },
  "language_info": {
   "codemirror_mode": {
    "name": "ipython",
    "version": 3
   },
   "file_extension": ".py",
   "mimetype": "text/x-python",
   "name": "python",
   "nbconvert_exporter": "python",
   "pygments_lexer": "ipython3",
   "version": "3.11.4"
  }
 },
 "nbformat": 4,
 "nbformat_minor": 2
}
