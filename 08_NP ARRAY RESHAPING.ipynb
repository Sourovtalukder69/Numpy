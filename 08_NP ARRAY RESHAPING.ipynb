{
 "cells": [
  {
   "cell_type": "markdown",
   "metadata": {},
   "source": [
    "# Numpy Array Reshaping"
   ]
  },
  {
   "cell_type": "code",
   "execution_count": 1,
   "metadata": {},
   "outputs": [
    {
     "name": "stdout",
     "output_type": "stream",
     "text": [
      "[[ 1  2  3]\n",
      " [ 4  5  6]\n",
      " [ 7  8  9]\n",
      " [10 11 12]]\n",
      "[[ 1  2]\n",
      " [ 3  4]\n",
      " [ 5  6]\n",
      " [ 7  8]\n",
      " [ 9 10]\n",
      " [11 12]]\n"
     ]
    }
   ],
   "source": [
    "# reshaping - means changing the shape of an array ,like adding or removing the elements.\n",
    "\n",
    "# reshaping from 1-D to 2-D\n",
    "import numpy as np\n",
    "x = np.array([1,2,3,4,5,6,7,8,9,10,11,12])\n",
    "y = x.reshape(4, 3)\n",
    "z = x.reshape(6, 2)\n",
    "print(y)\n",
    "print(z)\n"
   ]
  },
  {
   "cell_type": "code",
   "execution_count": 2,
   "metadata": {},
   "outputs": [
    {
     "name": "stdout",
     "output_type": "stream",
     "text": [
      "[[[ 1  2]\n",
      "  [ 3  4]\n",
      "  [ 5  6]]\n",
      "\n",
      " [[ 7  8]\n",
      "  [ 9 10]\n",
      "  [11 12]]]\n",
      "(3, 2, 2)\n"
     ]
    }
   ],
   "source": [
    "# reshping from 1-D to 3-D\n",
    "import numpy as np\n",
    "x = np.array([1,2,3,4,5,6,7,8,9,10,11,12])\n",
    "y = x.reshape(2, 3, 2)\n",
    "print(y)\n",
    "p = np.array([[[1, 2], [3, 4]], [[5, 6], [7, 8]], [[9, 10], [11, 12]]])\n",
    "print(p.shape)"
   ]
  },
  {
   "cell_type": "code",
   "execution_count": 3,
   "metadata": {},
   "outputs": [
    {
     "name": "stdout",
     "output_type": "stream",
     "text": [
      "[1 2 3 4 5 6 7 8]\n"
     ]
    }
   ],
   "source": [
    "# Return copy or view\n",
    "import numpy as np\n",
    "x = np.array([1,2,3,4,5,6,7,8])\n",
    "print(x.reshape(2, 4).base)"
   ]
  },
  {
   "cell_type": "code",
   "execution_count": 4,
   "metadata": {},
   "outputs": [
    {
     "name": "stdout",
     "output_type": "stream",
     "text": [
      "[[[1 2]\n",
      "  [3 4]]\n",
      "\n",
      " [[5 6]\n",
      "  [7 8]]]\n"
     ]
    }
   ],
   "source": [
    "# unknown dimension - you are only allowed to have one unknown dimension. pass -1.\n",
    "import numpy as np\n",
    "x = np.array([1,2,3,4,5,6,7,8])\n",
    "y = x.reshape(2, 2, -1)\n",
    "print(y)"
   ]
  },
  {
   "cell_type": "code",
   "execution_count": 5,
   "metadata": {},
   "outputs": [
    {
     "name": "stdout",
     "output_type": "stream",
     "text": [
      "[1 2 3 4 5 6]\n"
     ]
    }
   ],
   "source": [
    "# Flattening the array by converting multidimensional array in 1-D.\n",
    "import numpy as np\n",
    "x = np.array([[1,2,3], [4,5,6]])\n",
    "y = x.reshape(-1)\n",
    "print(y)"
   ]
  },
  {
   "cell_type": "code",
   "execution_count": 6,
   "metadata": {},
   "outputs": [
    {
     "name": "stdout",
     "output_type": "stream",
     "text": [
      "[[11 53 28 50 38 37 94 92  5 30 68  9 78  2 21]]\n",
      "(1, 15)\n"
     ]
    }
   ],
   "source": [
    "# expand_dims : get the expandant dimetions of array\n",
    "import numpy as np\n",
    "a = np.array([11, 53, 28, 50, 38, 37, 94, 92, 5, 30, 68, 9, 78, 2, 21])\n",
    "# row wise (row vector)\n",
    "b = np.expand_dims(a, axis=0) #\n",
    "print(b)\n",
    "print(b.shape)"
   ]
  },
  {
   "cell_type": "code",
   "execution_count": 7,
   "metadata": {},
   "outputs": [
    {
     "name": "stdout",
     "output_type": "stream",
     "text": [
      "[[11]\n",
      " [53]\n",
      " [28]\n",
      " [50]\n",
      " [38]\n",
      " [37]\n",
      " [94]\n",
      " [92]\n",
      " [ 5]\n",
      " [30]\n",
      " [68]\n",
      " [ 9]\n",
      " [78]\n",
      " [ 2]\n",
      " [21]]\n",
      "(15, 1)\n"
     ]
    }
   ],
   "source": [
    "#column wise(column vector)\n",
    "c = np.expand_dims(a, axis=1)\n",
    "print(c)\n",
    "print(c.shape)\n",
    "\n",
    "# there are alot of functions for changing the shapes pf an array in numpy. like flatten, ravel and also rearranging the element rot90, flip,fliplr, flipud. they all are actually comes under advanced numpy."
   ]
  }
 ],
 "metadata": {
  "kernelspec": {
   "display_name": "Python 3",
   "language": "python",
   "name": "python3"
  },
  "language_info": {
   "codemirror_mode": {
    "name": "ipython",
    "version": 3
   },
   "file_extension": ".py",
   "mimetype": "text/x-python",
   "name": "python",
   "nbconvert_exporter": "python",
   "pygments_lexer": "ipython3",
   "version": "3.11.4"
  }
 },
 "nbformat": 4,
 "nbformat_minor": 2
}
