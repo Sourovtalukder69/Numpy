{
 "cells": [
  {
   "cell_type": "markdown",
   "metadata": {},
   "source": [
    "# **Numpy**\n",
    "<img src=\"https://numpy.org/images/logo.svg\" alt=\"NumPy Logo\" width=\"100\" height=\"100\"> \n",
    "\n",
    "\n",
    "**NumPy is a powerful open-source Python library primarily used for numerical and scientific computing. It provides support for creating and manipulating large, multi-dimensional arrays and matrices, along with a collection of mathematical functions to operate on these arrays efficiently.**\n",
    "### Key Points:\n",
    "\n",
    "- **Core Data Structure** : The central feature of NumPy is the ndarray (N-dimensional array), which is a grid of values, all of the same type, indexed by a tuple of non-negative integers.\n",
    "\n",
    "- **Mathematical Operations** : NumPy supports a wide range of mathematical operations, such as:\n",
    "    Element-wise operations (addition, subtraction, etc.)\n",
    "    Matrix operations (dot product, transpose)\n",
    "    Statistical functions (mean, median, standard deviation)\n",
    "    Trigonometric, exponential, and logarithmic functions\n",
    "\n",
    "- **Broadcasting** : This feature allows operations on arrays of different shapes, making array calculations more intuitive and concise.\n",
    "\n",
    "- **Efficiency** : NumPy is much faster than traditional Python lists for numerical tasks due to its implementation in C, enabling efficient memory management and computation.\n",
    "\n",
    "- **Integration** : NumPy is foundational for many other Python libraries, including Pandas for data manipulation, SciPy for scientific computations, and Matplotlib for data visualization."
   ]
  },
  {
   "cell_type": "code",
   "execution_count": 1,
   "metadata": {},
   "outputs": [
    {
     "name": "stdout",
     "output_type": "stream",
     "text": [
      "1.26.4\n"
     ]
    }
   ],
   "source": [
    "import numpy as np\n",
    "print(np.__version__)"
   ]
  },
  {
   "cell_type": "markdown",
   "metadata": {},
   "source": [
    "# Compare Numpy array vs python list in terms of **Time** & **Speed**\n",
    " - Numpy is almost 50 times faster than python list\n",
    " - Numpy use ctype array. Its a static array, not a referecial array"
   ]
  },
  {
   "cell_type": "markdown",
   "metadata": {},
   "source": [
    "## Python list vs Numpy array Time compare"
   ]
  },
  {
   "cell_type": "code",
   "execution_count": 6,
   "metadata": {},
   "outputs": [
    {
     "name": "stdout",
     "output_type": "stream",
     "text": [
      "Operation time for python List : 1.2276215553283691\n"
     ]
    }
   ],
   "source": [
    "import time\n",
    "\n",
    "# python lists\n",
    "a = [i for i in range(10000000)]\n",
    "b = [i for i in range(10000000, 20000000)]\n",
    "c = []\n",
    "start = time.time()\n",
    "for i in range(len(a)):\n",
    "    c.append(a[i]+b[i])\n",
    "print(\"Operation time for python List :\",time.time() - start)"
   ]
  },
  {
   "cell_type": "code",
   "execution_count": 7,
   "metadata": {},
   "outputs": [
    {
     "name": "stdout",
     "output_type": "stream",
     "text": [
      "Operation time for Numpy array : 0.29837918281555176\n"
     ]
    }
   ],
   "source": [
    "import time\n",
    "import numpy as np\n",
    "# Numpy arrays\n",
    "start = time.time()\n",
    "import numpy as np\n",
    "start = time.time()\n",
    "a = np.arange(10000000)\n",
    "b = np.arange(10000000, 20000000)\n",
    "c = a + b \n",
    "print(\"Operation time for Numpy array :\",time.time() - start)"
   ]
  },
  {
   "cell_type": "markdown",
   "metadata": {},
   "source": [
    "## Compare Numpy array vs python list in terms of memory"
   ]
  },
  {
   "cell_type": "code",
   "execution_count": 10,
   "metadata": {},
   "outputs": [
    {
     "name": "stdout",
     "output_type": "stream",
     "text": [
      "python list memory consume : 89095160\n",
      "Numpy array memory consume : 40000112\n",
      "Numpy array memory consume : 40000112\n"
     ]
    }
   ],
   "source": [
    "import sys\n",
    "x = [i for i in range(10000000)] \n",
    "print(\"python list memory consume :\",sys.getsizeof(x))\n",
    "\n",
    "y = np.arange(10000000)\n",
    "print(\"Numpy array memory consume :\",sys.getsizeof(y))\n",
    "\n",
    "z = np.arange(10000000, dtype='int8')\n",
    "print(\"Numpy array memory consume :\",sys.getsizeof(y))\n",
    "\n",
    "# for store in small memory size\n",
    "# b = np.arange(10000000, dtype = np.int32) , int8, "
   ]
  },
  {
   "cell_type": "markdown",
   "metadata": {},
   "source": [
    "# Broadcasting\n",
    "- The term broadcasting describes how NumPy treats arrays with different shapes during arithmetic operations\n",
    "- The smaller array is \"broadcast\" across the larger array so that they have compatible shapes"
   ]
  },
  {
   "cell_type": "code",
   "execution_count": 13,
   "metadata": {},
   "outputs": [
    {
     "name": "stdout",
     "output_type": "stream",
     "text": [
      "[[0 1 2]\n",
      " [3 4 5]]\n"
     ]
    }
   ],
   "source": [
    "import numpy as np\n",
    "x = np.arange(6).reshape(2, 3)\n",
    "print(x)"
   ]
  },
  {
   "cell_type": "code",
   "execution_count": 14,
   "metadata": {},
   "outputs": [
    {
     "name": "stdout",
     "output_type": "stream",
     "text": [
      "[[ 6  7  8]\n",
      " [ 9 10 11]]\n"
     ]
    }
   ],
   "source": [
    "y = np.arange(6, 12).reshape(2, 3)\n",
    "print(y)"
   ]
  },
  {
   "cell_type": "code",
   "execution_count": 15,
   "metadata": {},
   "outputs": [
    {
     "name": "stdout",
     "output_type": "stream",
     "text": [
      "[[ 6  8 10]\n",
      " [12 14 16]]\n"
     ]
    }
   ],
   "source": [
    "# apply summetion on 2d numpy arrays\n",
    "print(x+y)"
   ]
  },
  {
   "cell_type": "code",
   "execution_count": 16,
   "metadata": {},
   "outputs": [
    {
     "name": "stdout",
     "output_type": "stream",
     "text": [
      "[[0 1 2]]\n"
     ]
    }
   ],
   "source": [
    "z = np.arange(3).reshape(1, 3)\n",
    "print(z)"
   ]
  },
  {
   "cell_type": "code",
   "execution_count": 23,
   "metadata": {},
   "outputs": [
    {
     "name": "stdout",
     "output_type": "stream",
     "text": [
      "[[0 2 4]\n",
      " [3 5 7]]\n"
     ]
    }
   ],
   "source": [
    "# print(x+z)\n",
    "print(x+z)\n",
    "# How it possible !? \n",
    "# Ans: Because its broadcasting. The smaller array is \"broadcast\" across the larger array so that they have compatible shape"
   ]
  },
  {
   "cell_type": "markdown",
   "metadata": {},
   "source": [
    "## Broadcasting rule"
   ]
  },
  {
   "cell_type": "code",
   "execution_count": 24,
   "metadata": {},
   "outputs": [],
   "source": [
    "### Boradcasting rule\n",
    "# 1. Make the two arrays have same number of dimentions\n",
    "#    if the numbers of dimentions of the two arrays are different,add new dimensions with size 1 to the head of the array with the smaller dimensions like\n",
    "# [3 2] , [3  ] \n",
    "# [3 2] , [1 3]\n",
    "\n",
    "# [3 3 3] [3]\n",
    "# [3 3 3] [1 1 3]\n",
    "\n",
    "# 2. Make each dimentions of two arrays the same size .\n",
    "#    if the sizes of each dimension of the two arrays do not match, dimentions with size 1 are stretched to the size of the other array\n",
    "\n",
    "# [3 3]   [3]\n",
    "#         [1 3]\n",
    "# [3 3]   [3 3]\n",
    "\n",
    "\n",
    "# [4 3]   [3]\n",
    "#         [1 3]\n",
    "# [4 3]   [4 3]\n",
    "\n",
    "#    if threre is a dimesion whose size is not 1 in either of the two arrays, it cannot be broadcasted, and an error is raised\n",
    "\n",
    "# [3 4]  [3]\n",
    "# [3 4]  [1 3]\n",
    "# [3 4]  [4 3] \n",
    "# both dimentions are not matching so it wil rasie error"
   ]
  },
  {
   "cell_type": "code",
   "execution_count": 27,
   "metadata": {},
   "outputs": [
    {
     "name": "stdout",
     "output_type": "stream",
     "text": [
      "[[ 0  1  2]\n",
      " [ 3  4  5]\n",
      " [ 6  7  8]\n",
      " [ 9 10 11]]\n"
     ]
    }
   ],
   "source": [
    "# example 1\n",
    "import numpy as np\n",
    "a = np.arange(12).reshape(4, 3)\n",
    "print(a)"
   ]
  },
  {
   "cell_type": "code",
   "execution_count": 28,
   "metadata": {},
   "outputs": [
    {
     "name": "stdout",
     "output_type": "stream",
     "text": [
      "[0 1 2]\n"
     ]
    }
   ],
   "source": [
    "b = np.arange(3)\n",
    "print(b)"
   ]
  },
  {
   "cell_type": "code",
   "execution_count": 30,
   "metadata": {},
   "outputs": [
    {
     "name": "stdout",
     "output_type": "stream",
     "text": [
      "[[ 0  2  4]\n",
      " [ 3  5  7]\n",
      " [ 6  8 10]\n",
      " [ 9 11 13]]\n"
     ]
    }
   ],
   "source": [
    "# the broadcast working process is \n",
    "# [4 3]  [3]\n",
    "# [4 3]  [1 3]\n",
    "# [4 3]  [4 3]\n",
    "\n",
    "print(a+b)"
   ]
  },
  {
   "cell_type": "code",
   "execution_count": 33,
   "metadata": {},
   "outputs": [
    {
     "name": "stdout",
     "output_type": "stream",
     "text": [
      "[[0 1 2]]\n"
     ]
    }
   ],
   "source": [
    "# example 2\n",
    "import numpy as np\n",
    "a = np.arange(3).reshape(1, 3)\n",
    "print(a)"
   ]
  },
  {
   "cell_type": "code",
   "execution_count": 32,
   "metadata": {},
   "outputs": [
    {
     "name": "stdout",
     "output_type": "stream",
     "text": [
      "[[0]\n",
      " [1]\n",
      " [2]]\n"
     ]
    }
   ],
   "source": [
    "b = np.arange(3).reshape(3, 1)\n",
    "print(b)\n",
    "# [1 3] [3 1]\n",
    "# [3 3] [3 3]"
   ]
  },
  {
   "cell_type": "code",
   "execution_count": 34,
   "metadata": {},
   "outputs": [
    {
     "name": "stdout",
     "output_type": "stream",
     "text": [
      "[[0 1 2]\n",
      " [1 2 3]\n",
      " [2 3 4]]\n"
     ]
    }
   ],
   "source": [
    "print(a+b)"
   ]
  },
  {
   "cell_type": "code",
   "execution_count": 36,
   "metadata": {},
   "outputs": [],
   "source": [
    "# example 3\n",
    "import numpy as np\n",
    "a = np.arange(16).reshape(4, 4)\n",
    "print(a)\n",
    "# [[ 0  1  2  3] \n",
    "#  [ 4  5  6  7] \n",
    "#  [ 8  9 10 11] \n",
    "#  [12 13 14 15]]\n",
    "\n",
    "b = np.arange(4).reshape(2, 2)\n",
    "print(b)\n",
    "# [[0 1] \n",
    "#  [2 3]]\n",
    "\n",
    "print(a+b)  # it will not execute "
   ]
  }
 ],
 "metadata": {
  "kernelspec": {
   "display_name": "Python 3",
   "language": "python",
   "name": "python3"
  },
  "language_info": {
   "codemirror_mode": {
    "name": "ipython",
    "version": 3
   },
   "file_extension": ".py",
   "mimetype": "text/x-python",
   "name": "python",
   "nbconvert_exporter": "python",
   "pygments_lexer": "ipython3",
   "version": "3.11.4"
  }
 },
 "nbformat": 4,
 "nbformat_minor": 2
}
