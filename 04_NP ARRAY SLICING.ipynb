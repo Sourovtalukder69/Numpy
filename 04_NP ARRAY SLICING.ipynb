{
 "cells": [
  {
   "cell_type": "markdown",
   "metadata": {},
   "source": [
    "# Numpy Array Slicing"
   ]
  },
  {
   "cell_type": "code",
   "execution_count": 1,
   "metadata": {},
   "outputs": [],
   "source": [
    "# slicing array - slicing in python means taking elemetns from one given index to another index.\n",
    "# [start:end], [start:end:step]"
   ]
  },
  {
   "cell_type": "code",
   "execution_count": 2,
   "metadata": {},
   "outputs": [
    {
     "name": "stdout",
     "output_type": "stream",
     "text": [
      "[2 3 4 5]\n"
     ]
    }
   ],
   "source": [
    "# now we will slice an element from 1 to 5 :\n",
    "import numpy as np\n",
    "sourov = np.array([1, 2, 3, 4, 5, 6, 7, 8, 9])\n",
    "print(sourov[1:5])"
   ]
  },
  {
   "cell_type": "code",
   "execution_count": 3,
   "metadata": {},
   "outputs": [
    {
     "name": "stdout",
     "output_type": "stream",
     "text": [
      "[5 6 7 8 9]\n"
     ]
    }
   ],
   "source": [
    "# now we will slice from index 4 to the end value\n",
    "import numpy as np\n",
    "sourov = np.array([1, 2, 3, 4, 5, 6, 7, 8, 9])\n",
    "print(sourov[4:])"
   ]
  },
  {
   "cell_type": "code",
   "execution_count": 4,
   "metadata": {},
   "outputs": [
    {
     "name": "stdout",
     "output_type": "stream",
     "text": [
      "[1 2 3 4]\n"
     ]
    }
   ],
   "source": [
    "# now we will slice the element from the begining to index 4\n",
    "import numpy as np\n",
    "sourov = np.array([1, 2, 3, 4, 5, 6, 7, 8, 9])\n",
    "print(sourov[:4])"
   ]
  },
  {
   "cell_type": "code",
   "execution_count": 5,
   "metadata": {},
   "outputs": [
    {
     "name": "stdout",
     "output_type": "stream",
     "text": [
      "[5 6]\n"
     ]
    }
   ],
   "source": [
    "# Negative Slicing - index 3 to end\n",
    "import numpy as np\n",
    "sourov = np.array([1, 2, 3, 4, 5, 6, 7])\n",
    "print(sourov[-3:-1])"
   ]
  },
  {
   "cell_type": "code",
   "execution_count": 6,
   "metadata": {},
   "outputs": [
    {
     "name": "stdout",
     "output_type": "stream",
     "text": [
      "[2 4]\n"
     ]
    }
   ],
   "source": [
    "# Step: you will use step value to determine the step of the slicing\n",
    "# return every other value from index 1 to 5\n",
    "import numpy as np\n",
    "sourov = np.array([1, 2, 3, 4, 5, 6, 7])\n",
    "print(sourov[1:5:2])"
   ]
  },
  {
   "cell_type": "code",
   "execution_count": 7,
   "metadata": {},
   "outputs": [
    {
     "name": "stdout",
     "output_type": "stream",
     "text": [
      "[1 3 5 7 9]\n"
     ]
    }
   ],
   "source": [
    "# now return every other number from the entire array\n",
    "import numpy as np\n",
    "sourov = np.array([1, 2, 3, 4, 5, 6, 7, 8, 9])\n",
    "print(sourov[::2])"
   ]
  },
  {
   "cell_type": "code",
   "execution_count": 8,
   "metadata": {},
   "outputs": [
    {
     "name": "stdout",
     "output_type": "stream",
     "text": [
      "[7 8 9]\n"
     ]
    }
   ],
   "source": [
    "# slicing 2-D Array:\n",
    "import numpy as np\n",
    "sourov = np.array([[1,2,3,4,5], [6,7,8,9,10]])\n",
    "print(sourov[1,1:4])"
   ]
  },
  {
   "cell_type": "code",
   "execution_count": 9,
   "metadata": {},
   "outputs": [
    {
     "name": "stdout",
     "output_type": "stream",
     "text": [
      "[3 8]\n",
      "[[2 3 4]\n",
      " [7 8 9]]\n",
      "[[ 1  2  3  4  5]\n",
      " [ 6  7  8  9 10]]\n",
      "[100   2   5 500   4   3   6   6]\n"
     ]
    }
   ],
   "source": [
    "# another example\n",
    "import numpy as np\n",
    "sourov = np.array([[1,2,3,4,5], [6,7,8,9,10]])\n",
    "print(sourov[0:2, 2])\n",
    "\n",
    "# another example tough 2-D \n",
    "import numpy as np\n",
    "sourov = np.array([[1,2,3,4,5], [6,7,8,9,10]])\n",
    "\n",
    "print(sourov[0:2, 1:4])\n",
    "print(sourov[0:2, 0:5])\n",
    "\n",
    "# np.put()  : function repalce specific elements of an array with given values of p_array. Array index work on flattened\n",
    "import numpy as np\n",
    "x = np.array([1, 2, 5, 6, 4, 3, 6, 6])\n",
    "y = np.put(x, [0, 3],[100, 500])  # permanent change\n",
    "print(x)\n",
    "# [100   2   5 500   4   3   6   6]\n"
   ]
  },
  {
   "cell_type": "code",
   "execution_count": 10,
   "metadata": {},
   "outputs": [
    {
     "name": "stdout",
     "output_type": "stream",
     "text": [
      "[2 3 5 8 9]\n"
     ]
    }
   ],
   "source": [
    "# np.delet()\n",
    "import numpy as np\n",
    "x = np.array([1, 2, 3, 4, 5, 6, 7, 8, 9])\n",
    "y = np.delete(x, [0, 3, 5, 6])   # dont change original array\n",
    "print(y)\n",
    "# [2 3 5 8 9]\n"
   ]
  },
  {
   "cell_type": "code",
   "execution_count": 12,
   "metadata": {},
   "outputs": [
    {
     "name": "stdout",
     "output_type": "stream",
     "text": [
      "[ 5  5  5  5  5  6  7  8  9 10 10 10 10 10 10]\n"
     ]
    }
   ],
   "source": [
    "# np.clip() : it used to clim(limit) the values in an array\n",
    "import numpy as np\n",
    "x = np.array([1, 2, 3, 4, 5, 6, 7, 8, 9, 10, 11, 12, 13, 14, 15])\n",
    "y = np.clip(x, a_min=5, a_max=10)\n",
    "print(y)"
   ]
  }
 ],
 "metadata": {
  "kernelspec": {
   "display_name": "Python 3",
   "language": "python",
   "name": "python3"
  },
  "language_info": {
   "codemirror_mode": {
    "name": "ipython",
    "version": 3
   },
   "file_extension": ".py",
   "mimetype": "text/x-python",
   "name": "python",
   "nbconvert_exporter": "python",
   "pygments_lexer": "ipython3",
   "version": "3.11.4"
  }
 },
 "nbformat": 4,
 "nbformat_minor": 2
}
